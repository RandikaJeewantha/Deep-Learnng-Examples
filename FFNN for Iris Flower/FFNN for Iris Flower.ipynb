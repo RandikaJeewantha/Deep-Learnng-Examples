{
 "cells": [
  {
   "cell_type": "code",
   "execution_count": 1,
   "metadata": {},
   "outputs": [
    {
     "name": "stdout",
     "output_type": "stream",
     "text": [
      "data : \n",
      "[[5.1 3.5 1.4 0.2]\n",
      " [4.9 3.  1.4 0.2]\n",
      " [4.7 3.2 1.3 0.2]\n",
      " [4.6 3.1 1.5 0.2]\n",
      " [5.  3.6 1.4 0.2]]\n",
      "target : \n",
      "[0 0 0 0 0]\n",
      "size:  150\n",
      "type:  <class 'numpy.ndarray'>\n"
     ]
    }
   ],
   "source": [
    "from sklearn.datasets import load_iris\n",
    "#Load_iris is the function used to load the iris dataset\n",
    "#features are sepal length, sepal width, petal width, petal length\n",
    "#labels are 0-setosa, 1-virginica, 2-versicolor\n",
    "\n",
    "dataset = load_iris()\n",
    "#calling the load_iris function and loading the dataset\n",
    "\n",
    "data = dataset.data\n",
    "#fetures\n",
    "\n",
    "target = dataset.target\n",
    "#labels\n",
    "\n",
    "print(\"data : \")\n",
    "print(data[:5])\n",
    "print(\"target : \")\n",
    "print(target[:5])\n",
    "print(\"size: \", len(data))\n",
    "print(\"type: \", type(data))"
   ]
  },
  {
   "cell_type": "code",
   "execution_count": 2,
   "metadata": {},
   "outputs": [
    {
     "name": "stderr",
     "output_type": "stream",
     "text": [
      "Using TensorFlow backend.\n"
     ]
    }
   ],
   "source": [
    "from keras.layers import Dense \n",
    "#densly connected layers\n",
    "\n",
    "from keras.models import Sequential\n",
    "\n",
    "model = Sequential()\n",
    "#model is a empty NN, Sequential -> creating NN by keras, layer by layer\n",
    "\n",
    "model.add(Dense(8, input_dim = 4, activation = 'relu'))\n",
    "#1st hidden layer (dense type-fully connected)\n",
    "#this layer 8 - neuron, 4 - input neuron in input layer\n",
    "\n",
    "model.add(Dense(8, input_dim = 8, activation = 'relu'))\n",
    "#2st hidden layer (dense type-fully connected)\n",
    "\n",
    "model.add(Dense(3, input_dim = 8, activation = 'softmax'))\n",
    "#final layer\n",
    "\n",
    "model.compile(loss = 'categorical_crossentropy', optimizer = 'sgd', metrics = ['accuracy'])\n"
   ]
  },
  {
   "cell_type": "code",
   "execution_count": 3,
   "metadata": {},
   "outputs": [],
   "source": [
    "from sklearn.model_selection import train_test_split\n",
    "\n",
    "train_data, test_data, train_target, test_target = train_test_split(data, target, test_size = 0.1)\n",
    "#10% of data for test"
   ]
  },
  {
   "cell_type": "code",
   "execution_count": 6,
   "metadata": {},
   "outputs": [
    {
     "name": "stdout",
     "output_type": "stream",
     "text": [
      "train_target : \n",
      "[1 1 2 0 1]\n",
      "new_train_target : \n",
      "[[0. 1. 0.]\n",
      " [0. 1. 0.]\n",
      " [0. 0. 1.]\n",
      " [1. 0. 0.]\n",
      " [0. 1. 0.]]\n"
     ]
    }
   ],
   "source": [
    "from keras.utils import np_utils\n",
    "\n",
    "print(\"train_target : \")\n",
    "print(train_target[:5])\n",
    "\n",
    "new_train_target = np_utils.to_categorical(train_target)\n",
    "#categoring labels to numbers array\n",
    "\n",
    "print(\"new_train_target : \")\n",
    "print(new_train_target[:5])"
   ]
  },
  {
   "cell_type": "code",
   "execution_count": 7,
   "metadata": {},
   "outputs": [
    {
     "name": "stdout",
     "output_type": "stream",
     "text": [
      "Epoch 1/100\n",
      "135/135 [==============================] - 1s 10ms/step - loss: 1.1864 - accuracy: 0.3407\n",
      "Epoch 2/100\n",
      "135/135 [==============================] - 0s 141us/step - loss: 1.0132 - accuracy: 0.3407\n",
      "Epoch 3/100\n",
      "135/135 [==============================] - 0s 97us/step - loss: 0.9387 - accuracy: 0.3407\n",
      "Epoch 4/100\n",
      "135/135 [==============================] - 0s 111us/step - loss: 0.8911 - accuracy: 0.3407\n",
      "Epoch 5/100\n",
      "135/135 [==============================] - 0s 89us/step - loss: 0.8558 - accuracy: 0.3407\n",
      "Epoch 6/100\n",
      "135/135 [==============================] - 0s 97us/step - loss: 0.8277 - accuracy: 0.3407\n",
      "Epoch 7/100\n",
      "135/135 [==============================] - 0s 104us/step - loss: 0.8054 - accuracy: 0.3481\n",
      "Epoch 8/100\n",
      "135/135 [==============================] - 0s 97us/step - loss: 0.7878 - accuracy: 0.6296\n",
      "Epoch 9/100\n",
      "135/135 [==============================] - 0s 97us/step - loss: 0.7700 - accuracy: 0.6667\n",
      "Epoch 10/100\n",
      "135/135 [==============================] - 0s 96us/step - loss: 0.7550 - accuracy: 0.6667\n",
      "Epoch 11/100\n",
      "135/135 [==============================] - 0s 82us/step - loss: 0.7383 - accuracy: 0.6667\n",
      "Epoch 12/100\n",
      "135/135 [==============================] - 0s 82us/step - loss: 0.7241 - accuracy: 0.6667\n",
      "Epoch 13/100\n",
      "135/135 [==============================] - 0s 97us/step - loss: 0.7099 - accuracy: 0.6667\n",
      "Epoch 14/100\n",
      "135/135 [==============================] - ETA: 0s - loss: 0.5454 - accuracy: 0.84 - 0s 89us/step - loss: 0.6964 - accuracy: 0.7037\n",
      "Epoch 15/100\n",
      "135/135 [==============================] - 0s 97us/step - loss: 0.6835 - accuracy: 0.6815\n",
      "Epoch 16/100\n",
      "135/135 [==============================] - 0s 82us/step - loss: 0.6714 - accuracy: 0.7111\n",
      "Epoch 17/100\n",
      "135/135 [==============================] - 0s 111us/step - loss: 0.6597 - accuracy: 0.7111\n",
      "Epoch 18/100\n",
      "135/135 [==============================] - 0s 82us/step - loss: 0.6481 - accuracy: 0.7407\n",
      "Epoch 19/100\n",
      "135/135 [==============================] - 0s 141us/step - loss: 0.6366 - accuracy: 0.7037\n",
      "Epoch 20/100\n",
      "135/135 [==============================] - 0s 104us/step - loss: 0.6254 - accuracy: 0.7111\n",
      "Epoch 21/100\n",
      "135/135 [==============================] - 0s 52us/step - loss: 0.6110 - accuracy: 0.6815\n",
      "Epoch 22/100\n",
      "135/135 [==============================] - 0s 52us/step - loss: 0.5957 - accuracy: 0.7037\n",
      "Epoch 23/100\n",
      "135/135 [==============================] - 0s 74us/step - loss: 0.5799 - accuracy: 0.6741\n",
      "Epoch 24/100\n",
      "135/135 [==============================] - 0s 45us/step - loss: 0.5668 - accuracy: 0.7037\n",
      "Epoch 25/100\n",
      "135/135 [==============================] - 0s 15us/step - loss: 0.5580 - accuracy: 0.6667\n",
      "Epoch 26/100\n",
      "135/135 [==============================] - 0s 0us/step - loss: 0.5475 - accuracy: 0.6815\n",
      "Epoch 27/100\n",
      "135/135 [==============================] - 0s 140us/step - loss: 0.5402 - accuracy: 0.6667\n",
      "Epoch 28/100\n",
      "135/135 [==============================] - 0s 116us/step - loss: 0.5323 - accuracy: 0.6815\n",
      "Epoch 29/100\n",
      "135/135 [==============================] - 0s 0us/step - loss: 0.5277 - accuracy: 0.6815\n",
      "Epoch 30/100\n",
      "135/135 [==============================] - 0s 116us/step - loss: 0.5196 - accuracy: 0.6667\n",
      "Epoch 31/100\n",
      "135/135 [==============================] - 0s 0us/step - loss: 0.5132 - accuracy: 0.7037\n",
      "Epoch 32/100\n",
      "135/135 [==============================] - 0s 100us/step - loss: 0.5068 - accuracy: 0.6815\n",
      "Epoch 33/100\n",
      "135/135 [==============================] - 0s 89us/step - loss: 0.5011 - accuracy: 0.6963\n",
      "Epoch 34/100\n",
      "135/135 [==============================] - 0s 82us/step - loss: 0.4967 - accuracy: 0.6889\n",
      "Epoch 35/100\n",
      "135/135 [==============================] - 0s 111us/step - loss: 0.4902 - accuracy: 0.6889\n",
      "Epoch 36/100\n",
      "135/135 [==============================] - 0s 74us/step - loss: 0.4848 - accuracy: 0.7481\n",
      "Epoch 37/100\n",
      "135/135 [==============================] - 0s 89us/step - loss: 0.4810 - accuracy: 0.6963\n",
      "Epoch 38/100\n",
      "135/135 [==============================] - 0s 104us/step - loss: 0.4758 - accuracy: 0.7407\n",
      "Epoch 39/100\n",
      "135/135 [==============================] - 0s 89us/step - loss: 0.4709 - accuracy: 0.7333\n",
      "Epoch 40/100\n",
      "135/135 [==============================] - 0s 111us/step - loss: 0.4685 - accuracy: 0.8074\n",
      "Epoch 41/100\n",
      "135/135 [==============================] - 0s 82us/step - loss: 0.4634 - accuracy: 0.9259\n",
      "Epoch 42/100\n",
      "135/135 [==============================] - 0s 89us/step - loss: 0.4633 - accuracy: 0.8000\n",
      "Epoch 43/100\n",
      "135/135 [==============================] - 0s 89us/step - loss: 0.4567 - accuracy: 0.8519\n",
      "Epoch 44/100\n",
      "135/135 [==============================] - 0s 97us/step - loss: 0.4523 - accuracy: 0.9259\n",
      "Epoch 45/100\n",
      "135/135 [==============================] - 0s 104us/step - loss: 0.4487 - accuracy: 0.9481\n",
      "Epoch 46/100\n",
      "135/135 [==============================] - 0s 97us/step - loss: 0.4453 - accuracy: 0.8815\n",
      "Epoch 47/100\n",
      "135/135 [==============================] - 0s 104us/step - loss: 0.4422 - accuracy: 0.7630\n",
      "Epoch 48/100\n",
      "135/135 [==============================] - 0s 89us/step - loss: 0.4408 - accuracy: 0.7778\n",
      "Epoch 49/100\n",
      "135/135 [==============================] - 0s 104us/step - loss: 0.4348 - accuracy: 0.8222\n",
      "Epoch 50/100\n",
      "135/135 [==============================] - 0s 82us/step - loss: 0.4324 - accuracy: 0.8370\n",
      "Epoch 51/100\n",
      "135/135 [==============================] - 0s 104us/step - loss: 0.4284 - accuracy: 0.8593\n",
      "Epoch 52/100\n",
      "135/135 [==============================] - 0s 97us/step - loss: 0.4259 - accuracy: 0.8296\n",
      "Epoch 53/100\n",
      "135/135 [==============================] - 0s 104us/step - loss: 0.4220 - accuracy: 0.8519\n",
      "Epoch 54/100\n",
      "135/135 [==============================] - 0s 82us/step - loss: 0.4211 - accuracy: 0.8148\n",
      "Epoch 55/100\n",
      "135/135 [==============================] - 0s 89us/step - loss: 0.4178 - accuracy: 0.7556\n",
      "Epoch 56/100\n",
      "135/135 [==============================] - 0s 82us/step - loss: 0.4135 - accuracy: 0.8963\n",
      "Epoch 57/100\n",
      "135/135 [==============================] - 0s 97us/step - loss: 0.4086 - accuracy: 0.9481\n",
      "Epoch 58/100\n",
      "135/135 [==============================] - 0s 82us/step - loss: 0.4093 - accuracy: 0.8963\n",
      "Epoch 59/100\n",
      "135/135 [==============================] - 0s 82us/step - loss: 0.4031 - accuracy: 0.8815\n",
      "Epoch 60/100\n",
      "135/135 [==============================] - 0s 74us/step - loss: 0.4038 - accuracy: 0.9852\n",
      "Epoch 61/100\n",
      "135/135 [==============================] - 0s 89us/step - loss: 0.3979 - accuracy: 0.9037\n",
      "Epoch 62/100\n",
      "135/135 [==============================] - 0s 74us/step - loss: 0.3976 - accuracy: 0.8815\n",
      "Epoch 63/100\n",
      "135/135 [==============================] - 0s 82us/step - loss: 0.3940 - accuracy: 0.8667\n",
      "Epoch 64/100\n",
      "135/135 [==============================] - 0s 97us/step - loss: 0.3908 - accuracy: 0.9185\n",
      "Epoch 65/100\n",
      "135/135 [==============================] - 0s 89us/step - loss: 0.3875 - accuracy: 0.9259\n",
      "Epoch 66/100\n",
      "135/135 [==============================] - 0s 74us/step - loss: 0.3827 - accuracy: 0.9630\n",
      "Epoch 67/100\n",
      "135/135 [==============================] - 0s 74us/step - loss: 0.3799 - accuracy: 0.9333\n",
      "Epoch 68/100\n",
      "135/135 [==============================] - 0s 97us/step - loss: 0.3773 - accuracy: 0.9407\n",
      "Epoch 69/100\n",
      "135/135 [==============================] - 0s 89us/step - loss: 0.3750 - accuracy: 0.8519\n",
      "Epoch 70/100\n",
      "135/135 [==============================] - 0s 82us/step - loss: 0.3739 - accuracy: 0.9630\n",
      "Epoch 71/100\n",
      "135/135 [==============================] - 0s 74us/step - loss: 0.3711 - accuracy: 0.9111\n",
      "Epoch 72/100\n",
      "135/135 [==============================] - 0s 82us/step - loss: 0.3678 - accuracy: 0.9333\n",
      "Epoch 73/100\n",
      "135/135 [==============================] - 0s 74us/step - loss: 0.3625 - accuracy: 0.9407\n",
      "Epoch 74/100\n",
      "135/135 [==============================] - 0s 97us/step - loss: 0.3598 - accuracy: 0.9259\n",
      "Epoch 75/100\n",
      "135/135 [==============================] - 0s 82us/step - loss: 0.3598 - accuracy: 0.9704\n",
      "Epoch 76/100\n",
      "135/135 [==============================] - 0s 82us/step - loss: 0.3558 - accuracy: 0.9556\n",
      "Epoch 77/100\n",
      "135/135 [==============================] - 0s 89us/step - loss: 0.3498 - accuracy: 0.9704\n",
      "Epoch 78/100\n",
      "135/135 [==============================] - 0s 104us/step - loss: 0.3493 - accuracy: 0.9630\n",
      "Epoch 79/100\n",
      "135/135 [==============================] - 0s 74us/step - loss: 0.3451 - accuracy: 0.9630\n",
      "Epoch 80/100\n"
     ]
    },
    {
     "name": "stdout",
     "output_type": "stream",
     "text": [
      "135/135 [==============================] - 0s 74us/step - loss: 0.3414 - accuracy: 0.9704\n",
      "Epoch 81/100\n",
      "135/135 [==============================] - 0s 82us/step - loss: 0.3391 - accuracy: 0.9111\n",
      "Epoch 82/100\n",
      "135/135 [==============================] - 0s 74us/step - loss: 0.3353 - accuracy: 0.9778\n",
      "Epoch 83/100\n",
      "135/135 [==============================] - 0s 104us/step - loss: 0.3310 - accuracy: 0.9704\n",
      "Epoch 84/100\n",
      "135/135 [==============================] - 0s 97us/step - loss: 0.3353 - accuracy: 0.8963\n",
      "Epoch 85/100\n",
      "135/135 [==============================] - 0s 89us/step - loss: 0.3261 - accuracy: 0.9407\n",
      "Epoch 86/100\n",
      "135/135 [==============================] - 0s 82us/step - loss: 0.3300 - accuracy: 0.9481\n",
      "Epoch 87/100\n",
      "135/135 [==============================] - 0s 67us/step - loss: 0.3204 - accuracy: 0.9704\n",
      "Epoch 88/100\n",
      "135/135 [==============================] - 0s 67us/step - loss: 0.3168 - accuracy: 0.9556\n",
      "Epoch 89/100\n",
      "135/135 [==============================] - 0s 89us/step - loss: 0.3115 - accuracy: 0.9630\n",
      "Epoch 90/100\n",
      "135/135 [==============================] - 0s 82us/step - loss: 0.3125 - accuracy: 0.9630\n",
      "Epoch 91/100\n",
      "135/135 [==============================] - 0s 74us/step - loss: 0.3059 - accuracy: 0.9778\n",
      "Epoch 92/100\n",
      "135/135 [==============================] - 0s 67us/step - loss: 0.3024 - accuracy: 0.9481\n",
      "Epoch 93/100\n",
      "135/135 [==============================] - 0s 111us/step - loss: 0.3000 - accuracy: 0.9630\n",
      "Epoch 94/100\n",
      "135/135 [==============================] - 0s 97us/step - loss: 0.3020 - accuracy: 0.9481\n",
      "Epoch 95/100\n",
      "135/135 [==============================] - 0s 111us/step - loss: 0.2931 - accuracy: 0.9630\n",
      "Epoch 96/100\n",
      "135/135 [==============================] - 0s 89us/step - loss: 0.2913 - accuracy: 0.9778\n",
      "Epoch 97/100\n",
      "135/135 [==============================] - 0s 74us/step - loss: 0.2986 - accuracy: 0.9407\n",
      "Epoch 98/100\n",
      "135/135 [==============================] - 0s 67us/step - loss: 0.2937 - accuracy: 0.9333\n",
      "Epoch 99/100\n",
      "135/135 [==============================] - 0s 82us/step - loss: 0.2850 - accuracy: 0.9778\n",
      "Epoch 100/100\n",
      "135/135 [==============================] - 0s 74us/step - loss: 0.2811 - accuracy: 0.9481\n"
     ]
    }
   ],
   "source": [
    "history = model.fit(train_data, new_train_target, epochs = 100)\n",
    "#model.fit to train the NN"
   ]
  },
  {
   "cell_type": "code",
   "execution_count": 9,
   "metadata": {},
   "outputs": [
    {
     "data": {
      "image/png": "[encoded data removed]",
      "text/plain": [
       "<Figure size 432x288 with 1 Axes>"
      ]
     },
     "metadata": {
      "needs_background": "light"
     },
     "output_type": "display_data"
    }
   ],
   "source": [
    "from matplotlib import pyplot as plt\n",
    "\n",
    "plt.plot(history.history['loss'])\n",
    "plt.xlabel('# epochs')\n",
    "plt.xlabel('loss')\n",
    "plt.show()\n",
    "\n",
    "#chart for show varing loss with epochs"
   ]
  },
  {
   "cell_type": "code",
   "execution_count": 10,
   "metadata": {},
   "outputs": [
    {
     "data": {
      "image/png": "[encoded data removed]",
      "text/plain": [
       "<Figure size 432x288 with 1 Axes>"
      ]
     },
     "metadata": {
      "needs_background": "light"
     },
     "output_type": "display_data"
    }
   ],
   "source": [
    "plt.plot(history.history['accuracy'])\n",
    "plt.xlabel('# epochs')\n",
    "plt.xlabel('accuracy')\n",
    "plt.show()\n",
    "\n",
    "#chart for show varing accuracy with epochs"
   ]
  },
  {
   "cell_type": "code",
   "execution_count": 11,
   "metadata": {},
   "outputs": [
    {
     "name": "stdout",
     "output_type": "stream",
     "text": [
      "[[6.0118147e-04 2.0925224e-01 7.9014659e-01]\n",
      " [1.1061812e-03 3.2541624e-01 6.7347753e-01]\n",
      " [3.9002284e-02 7.6278484e-01 1.9821282e-01]\n",
      " [1.2988846e-03 2.5933954e-01 7.3936158e-01]\n",
      " [2.2606865e-02 6.6608393e-01 3.1130913e-01]\n",
      " [9.1743290e-02 7.0424551e-01 2.0401113e-01]\n",
      " [5.8820762e-02 7.4507892e-01 1.9610032e-01]\n",
      " [9.2567503e-01 7.2962321e-02 1.3625505e-03]\n",
      " [9.1900746e-04 2.8810471e-01 7.1097630e-01]\n",
      " [9.8407215e-01 1.5805421e-02 1.2243213e-04]\n",
      " [6.9625286e-04 2.5052959e-01 7.4877411e-01]\n",
      " [1.5978614e-03 3.1276017e-01 6.8564188e-01]\n",
      " [9.6665621e-01 3.3012819e-02 3.3096466e-04]\n",
      " [9.9635208e-01 3.6395807e-03 8.3205423e-06]\n",
      " [3.8112148e-03 4.1977242e-01 5.7641637e-01]]\n"
     ]
    }
   ],
   "source": [
    "predicted_target=model.predict(test_data)\n",
    "\n",
    "print(predicted_target)\n",
    "\n",
    "#test_data and test_target in order to test the NN model using model.predict(). There are 15 samples."
   ]
  },
  {
   "cell_type": "code",
   "execution_count": 12,
   "metadata": {},
   "outputs": [
    {
     "name": "stdout",
     "output_type": "stream",
     "text": [
      "Predicted Labels: [2 2 1 2 1 1 1 0 2 0 2 2 0 0 2]\n",
      "Actual Labels: [2 2 1 2 1 1 1 0 2 0 2 2 0 0 1]\n"
     ]
    }
   ],
   "source": [
    "import numpy as np\n",
    "\n",
    "print('Predicted Labels:',np.argmax(predicted_target,axis=1))\n",
    "print('Actual Labels:',test_target)\n",
    "\n",
    "#it shows a 15x3 array\n",
    "#Using np.argmax(predicted_target,axis=1) the corresponding index (label) can be obtained. \n",
    "#This gives the index corresponding to the maximum value of each row, \n",
    "#which is equal to the label having the maximum probability.axis=1 is given to get the maximum value of each row."
   ]
  },
  {
   "cell_type": "markdown",
   "metadata": {},
   "source": [
    "It can be seen that almost all the predicted labels are matched with the actaul lables."
   ]
  }
 ],
 "metadata": {
  "kernelspec": {
   "display_name": "Python 3",
   "language": "python",
   "name": "python3"
  },
  "language_info": {
   "codemirror_mode": {
    "name": "ipython",
    "version": 3
   },
   "file_extension": ".py",
   "mimetype": "text/x-python",
   "name": "python",
   "nbconvert_exporter": "python",
   "pygments_lexer": "ipython3",
   "version": "3.7.4"
  }
 },
 "nbformat": 4,
 "nbformat_minor": 2
}
