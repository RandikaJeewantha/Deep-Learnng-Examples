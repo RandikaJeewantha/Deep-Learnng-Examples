{
 "cells": [
  {
   "cell_type": "code",
   "execution_count": 1,
   "metadata": {},
   "outputs": [
    {
     "name": "stdout",
     "output_type": "stream",
     "text": [
      "data : \n",
      "[[ 63.    1.    3.  145.  233.    1.    0.  150.    0.    2.3   0.    0.\n",
      "    1. ]\n",
      " [ 37.    1.    2.  130.  250.    0.    1.  187.    0.    3.5   0.    0.\n",
      "    2. ]\n",
      " [ 41.    0.    1.  130.  204.    0.    0.  172.    0.    1.4   2.    0.\n",
      "    2. ]\n",
      " [ 56.    1.    1.  120.  236.    0.    1.  178.    0.    0.8   2.    0.\n",
      "    2. ]\n",
      " [ 57.    0.    0.  120.  354.    0.    1.  163.    1.    0.6   2.    0.\n",
      "    2. ]]\n",
      "target : \n",
      "[1. 1. 1. 1. 1.]\n",
      "size data:  303\n",
      "size target:  303\n",
      "type:  <class 'numpy.ndarray'>\n"
     ]
    }
   ],
   "source": [
    "import pandas as pd\n",
    "\n",
    "dataset = pd.read_csv('heart.csv').values\n",
    "#this code read the whole dataset and store it in a numpy array\n",
    "\n",
    "data = dataset[:,0:13]\n",
    "#Features\n",
    "\n",
    "target = dataset[:,13]\n",
    "#labels\n",
    "\n",
    "print(\"data : \")\n",
    "print(data[:5])\n",
    "print(\"target : \")\n",
    "print(target[:5])\n",
    "print(\"size data: \", len(data))\n",
    "print(\"size target: \", len(target))\n",
    "print(\"type: \", type(data))"
   ]
  },
  {
   "cell_type": "code",
   "execution_count": 2,
   "metadata": {},
   "outputs": [
    {
     "name": "stderr",
     "output_type": "stream",
     "text": [
      "Using TensorFlow backend.\n"
     ]
    }
   ],
   "source": [
    "from keras.layers import Dense \n",
    "#densly connected layers\n",
    "\n",
    "from keras.models import Sequential\n",
    "\n",
    "from keras.layers import LeakyReLU\n",
    "\n",
    "model = Sequential()\n",
    "#model is a empty NN, Sequential -> creating NN by keras, layer by layer\n",
    "\n",
    "model.add(Dense(13))\n",
    "#1st hidden layer (dense type-fully connected)\n",
    "#13 - input neuron in input layer\n",
    "\n",
    "model.add(LeakyReLU(alpha=0.5))\n",
    "\n",
    "model.add(Dense(7, input_dim = 13, activation = 'relu'))\n",
    "#2st hidden layer (dense type-fully connected)\n",
    "\n",
    "model.add(Dense(2, input_dim = 7, activation = 'softmax'))\n",
    "#final layer\n",
    "\n",
    "model.compile(loss = 'categorical_crossentropy', optimizer = 'adam', metrics = ['accuracy'])\n"
   ]
  },
  {
   "cell_type": "code",
   "execution_count": 3,
   "metadata": {},
   "outputs": [],
   "source": [
    "from sklearn.model_selection import train_test_split\n",
    "\n",
    "train_data, test_data, train_target, test_target = train_test_split(data, target, test_size = 0.2)\n",
    "#20% of data for test"
   ]
  },
  {
   "cell_type": "code",
   "execution_count": 4,
   "metadata": {},
   "outputs": [
    {
     "name": "stdout",
     "output_type": "stream",
     "text": [
      "train_target : \n",
      "[1. 0. 1. 0. 0.]\n",
      "new_train_target : \n",
      "[[0. 1.]\n",
      " [1. 0.]\n",
      " [0. 1.]\n",
      " [1. 0.]\n",
      " [1. 0.]]\n"
     ]
    }
   ],
   "source": [
    "from keras.utils import np_utils\n",
    "\n",
    "print(\"train_target : \")\n",
    "print(train_target[:5])\n",
    "\n",
    "new_train_target = np_utils.to_categorical(train_target)\n",
    "#categoring labels to numbers array\n",
    "\n",
    "print(\"new_train_target : \")\n",
    "print(new_train_target[:5])"
   ]
  },
  {
   "cell_type": "code",
   "execution_count": 5,
   "metadata": {},
   "outputs": [
    {
     "name": "stdout",
     "output_type": "stream",
     "text": [
      "Epoch 1/100\n",
      "242/242 [==============================] - 0s 506us/step - loss: 64.4810 - accuracy: 0.5579\n",
      "Epoch 2/100\n",
      "242/242 [==============================] - 0s 70us/step - loss: 48.4605 - accuracy: 0.5579\n",
      "Epoch 3/100\n",
      "242/242 [==============================] - 0s 74us/step - loss: 31.9005 - accuracy: 0.5579\n",
      "Epoch 4/100\n",
      "242/242 [==============================] - 0s 79us/step - loss: 14.4144 - accuracy: 0.5331\n",
      "Epoch 5/100\n",
      "242/242 [==============================] - 0s 70us/step - loss: 8.5931 - accuracy: 0.3802\n",
      "Epoch 6/100\n",
      "242/242 [==============================] - 0s 79us/step - loss: 8.7135 - accuracy: 0.3967\n",
      "Epoch 7/100\n",
      "242/242 [==============================] - 0s 75us/step - loss: 6.1855 - accuracy: 0.4298\n",
      "Epoch 8/100\n",
      "242/242 [==============================] - 0s 79us/step - loss: 6.3928 - accuracy: 0.4917\n",
      "Epoch 9/100\n",
      "242/242 [==============================] - 0s 75us/step - loss: 5.5412 - accuracy: 0.4421\n",
      "Epoch 10/100\n",
      "242/242 [==============================] - 0s 75us/step - loss: 5.6480 - accuracy: 0.4298\n",
      "Epoch 11/100\n",
      "242/242 [==============================] - 0s 79us/step - loss: 5.0833 - accuracy: 0.4504\n",
      "Epoch 12/100\n",
      "242/242 [==============================] - 0s 75us/step - loss: 4.9813 - accuracy: 0.4256\n",
      "Epoch 13/100\n",
      "242/242 [==============================] - 0s 83us/step - loss: 4.5937 - accuracy: 0.4421\n",
      "Epoch 14/100\n",
      "242/242 [==============================] - 0s 83us/step - loss: 4.3494 - accuracy: 0.4339\n",
      "Epoch 15/100\n",
      "242/242 [==============================] - 0s 83us/step - loss: 4.1315 - accuracy: 0.4545\n",
      "Epoch 16/100\n",
      "242/242 [==============================] - 0s 78us/step - loss: 3.8218 - accuracy: 0.4463\n",
      "Epoch 17/100\n",
      "242/242 [==============================] - 0s 66us/step - loss: 3.6256 - accuracy: 0.4421\n",
      "Epoch 18/100\n",
      "242/242 [==============================] - 0s 104us/step - loss: 3.3941 - accuracy: 0.4463\n",
      "Epoch 19/100\n",
      "242/242 [==============================] - 0s 66us/step - loss: 3.1731 - accuracy: 0.4587\n",
      "Epoch 20/100\n",
      "242/242 [==============================] - 0s 87us/step - loss: 2.9975 - accuracy: 0.4421\n",
      "Epoch 21/100\n",
      "242/242 [==============================] - 0s 75us/step - loss: 2.9321 - accuracy: 0.4545\n",
      "Epoch 22/100\n",
      "242/242 [==============================] - 0s 79us/step - loss: 2.6828 - accuracy: 0.4835\n",
      "Epoch 23/100\n",
      "242/242 [==============================] - 0s 75us/step - loss: 2.4478 - accuracy: 0.4504\n",
      "Epoch 24/100\n",
      "242/242 [==============================] - 0s 75us/step - loss: 2.3053 - accuracy: 0.4835\n",
      "Epoch 25/100\n",
      "242/242 [==============================] - 0s 83us/step - loss: 2.0869 - accuracy: 0.4587\n",
      "Epoch 26/100\n",
      "242/242 [==============================] - 0s 79us/step - loss: 1.9355 - accuracy: 0.5041\n",
      "Epoch 27/100\n",
      "242/242 [==============================] - 0s 70us/step - loss: 1.8993 - accuracy: 0.4545\n",
      "Epoch 28/100\n",
      "242/242 [==============================] - 0s 83us/step - loss: 1.6120 - accuracy: 0.5289\n",
      "Epoch 29/100\n",
      "242/242 [==============================] - 0s 79us/step - loss: 1.4749 - accuracy: 0.4876\n",
      "Epoch 30/100\n",
      "242/242 [==============================] - 0s 75us/step - loss: 1.3705 - accuracy: 0.5579\n",
      "Epoch 31/100\n",
      "242/242 [==============================] - 0s 79us/step - loss: 1.3324 - accuracy: 0.5165\n",
      "Epoch 32/100\n",
      "242/242 [==============================] - 0s 87us/step - loss: 1.1719 - accuracy: 0.5289\n",
      "Epoch 33/100\n",
      "242/242 [==============================] - 0s 91us/step - loss: 1.0610 - accuracy: 0.5537\n",
      "Epoch 34/100\n",
      "242/242 [==============================] - 0s 91us/step - loss: 0.9811 - accuracy: 0.6074\n",
      "Epoch 35/100\n",
      "242/242 [==============================] - 0s 95us/step - loss: 0.9045 - accuracy: 0.6240\n",
      "Epoch 36/100\n",
      "242/242 [==============================] - 0s 91us/step - loss: 0.8467 - accuracy: 0.6488\n",
      "Epoch 37/100\n",
      "242/242 [==============================] - 0s 79us/step - loss: 0.7875 - accuracy: 0.6653\n",
      "Epoch 38/100\n",
      "242/242 [==============================] - 0s 87us/step - loss: 0.7830 - accuracy: 0.6446\n",
      "Epoch 39/100\n",
      "242/242 [==============================] - 0s 79us/step - loss: 0.7095 - accuracy: 0.6777\n",
      "Epoch 40/100\n",
      "242/242 [==============================] - 0s 75us/step - loss: 0.7785 - accuracy: 0.6488\n",
      "Epoch 41/100\n",
      "242/242 [==============================] - 0s 95us/step - loss: 0.7291 - accuracy: 0.7066\n",
      "Epoch 42/100\n",
      "242/242 [==============================] - 0s 79us/step - loss: 0.7104 - accuracy: 0.7107\n",
      "Epoch 43/100\n",
      "242/242 [==============================] - 0s 91us/step - loss: 0.6339 - accuracy: 0.7190\n",
      "Epoch 44/100\n",
      "242/242 [==============================] - 0s 83us/step - loss: 0.5960 - accuracy: 0.7521\n",
      "Epoch 45/100\n",
      "242/242 [==============================] - 0s 58us/step - loss: 0.5866 - accuracy: 0.7355\n",
      "Epoch 46/100\n",
      "242/242 [==============================] - 0s 104us/step - loss: 0.6283 - accuracy: 0.7273\n",
      "Epoch 47/100\n",
      "242/242 [==============================] - 0s 87us/step - loss: 0.5756 - accuracy: 0.7727\n",
      "Epoch 48/100\n",
      "242/242 [==============================] - 0s 83us/step - loss: 0.6054 - accuracy: 0.7603\n",
      "Epoch 49/100\n",
      "242/242 [==============================] - 0s 58us/step - loss: 0.6171 - accuracy: 0.7273\n",
      "Epoch 50/100\n",
      "242/242 [==============================] - 0s 50us/step - loss: 0.5696 - accuracy: 0.7438\n",
      "Epoch 51/100\n",
      "242/242 [==============================] - 0s 50us/step - loss: 0.5368 - accuracy: 0.7851\n",
      "Epoch 52/100\n",
      "242/242 [==============================] - 0s 4us/step - loss: 0.5329 - accuracy: 0.7810\n",
      "Epoch 53/100\n",
      "242/242 [==============================] - 0s 65us/step - loss: 0.5436 - accuracy: 0.7934\n",
      "Epoch 54/100\n",
      "242/242 [==============================] - 0s 65us/step - loss: 0.5128 - accuracy: 0.8017\n",
      "Epoch 55/100\n",
      "242/242 [==============================] - 0s 65us/step - loss: 0.5222 - accuracy: 0.7810\n",
      "Epoch 56/100\n",
      "242/242 [==============================] - 0s 65us/step - loss: 0.5144 - accuracy: 0.7851\n",
      "Epoch 57/100\n",
      "242/242 [==============================] - 0s 65us/step - loss: 0.4835 - accuracy: 0.7975\n",
      "Epoch 58/100\n",
      "242/242 [==============================] - 0s 0us/step - loss: 0.5413 - accuracy: 0.7479\n",
      "Epoch 59/100\n",
      "242/242 [==============================] - 0s 0us/step - loss: 0.5407 - accuracy: 0.7562\n",
      "Epoch 60/100\n",
      "242/242 [==============================] - 0s 119us/step - loss: 0.5601 - accuracy: 0.7727\n",
      "Epoch 61/100\n",
      "242/242 [==============================] - 0s 83us/step - loss: 0.5242 - accuracy: 0.7810\n",
      "Epoch 62/100\n",
      "242/242 [==============================] - 0s 79us/step - loss: 0.4967 - accuracy: 0.7727\n",
      "Epoch 63/100\n",
      "242/242 [==============================] - 0s 75us/step - loss: 0.4983 - accuracy: 0.7603\n",
      "Epoch 64/100\n",
      "242/242 [==============================] - 0s 87us/step - loss: 0.4616 - accuracy: 0.8182\n",
      "Epoch 65/100\n",
      "242/242 [==============================] - 0s 83us/step - loss: 0.4660 - accuracy: 0.7893\n",
      "Epoch 66/100\n",
      "242/242 [==============================] - 0s 91us/step - loss: 0.4579 - accuracy: 0.7975\n",
      "Epoch 67/100\n",
      "242/242 [==============================] - 0s 75us/step - loss: 0.4582 - accuracy: 0.8306\n",
      "Epoch 68/100\n",
      "242/242 [==============================] - 0s 87us/step - loss: 0.4697 - accuracy: 0.8017\n",
      "Epoch 69/100\n",
      "242/242 [==============================] - 0s 91us/step - loss: 0.5523 - accuracy: 0.7562\n",
      "Epoch 70/100\n",
      "242/242 [==============================] - 0s 79us/step - loss: 0.4863 - accuracy: 0.7727\n",
      "Epoch 71/100\n",
      "242/242 [==============================] - 0s 62us/step - loss: 0.4471 - accuracy: 0.7851\n",
      "Epoch 72/100\n",
      "242/242 [==============================] - 0s 75us/step - loss: 0.4371 - accuracy: 0.8306\n",
      "Epoch 73/100\n",
      "242/242 [==============================] - 0s 66us/step - loss: 0.4381 - accuracy: 0.8182\n",
      "Epoch 74/100\n",
      "242/242 [==============================] - 0s 66us/step - loss: 0.4444 - accuracy: 0.8306\n",
      "Epoch 75/100\n",
      "242/242 [==============================] - 0s 66us/step - loss: 0.4553 - accuracy: 0.8099\n",
      "Epoch 76/100\n",
      "242/242 [==============================] - 0s 62us/step - loss: 0.4287 - accuracy: 0.8264\n",
      "Epoch 77/100\n",
      "242/242 [==============================] - 0s 75us/step - loss: 0.4246 - accuracy: 0.8264\n",
      "Epoch 78/100\n",
      "242/242 [==============================] - 0s 62us/step - loss: 0.4209 - accuracy: 0.8306\n",
      "Epoch 79/100\n",
      "242/242 [==============================] - 0s 70us/step - loss: 0.4171 - accuracy: 0.8264\n",
      "Epoch 80/100\n"
     ]
    },
    {
     "name": "stdout",
     "output_type": "stream",
     "text": [
      "242/242 [==============================] - 0s 66us/step - loss: 0.4333 - accuracy: 0.8388\n",
      "Epoch 81/100\n",
      "242/242 [==============================] - 0s 70us/step - loss: 0.4697 - accuracy: 0.7934\n",
      "Epoch 82/100\n",
      "242/242 [==============================] - 0s 70us/step - loss: 0.4573 - accuracy: 0.8099\n",
      "Epoch 83/100\n",
      "242/242 [==============================] - 0s 62us/step - loss: 0.4242 - accuracy: 0.8347\n",
      "Epoch 84/100\n",
      "242/242 [==============================] - 0s 62us/step - loss: 0.4085 - accuracy: 0.8264\n",
      "Epoch 85/100\n",
      "242/242 [==============================] - 0s 62us/step - loss: 0.4036 - accuracy: 0.8182\n",
      "Epoch 86/100\n",
      "242/242 [==============================] - 0s 70us/step - loss: 0.4056 - accuracy: 0.8306\n",
      "Epoch 87/100\n",
      "242/242 [==============================] - 0s 66us/step - loss: 0.3992 - accuracy: 0.8223\n",
      "Epoch 88/100\n",
      "242/242 [==============================] - 0s 62us/step - loss: 0.3986 - accuracy: 0.8264\n",
      "Epoch 89/100\n",
      "242/242 [==============================] - 0s 54us/step - loss: 0.4354 - accuracy: 0.8058\n",
      "Epoch 90/100\n",
      "242/242 [==============================] - 0s 66us/step - loss: 0.3968 - accuracy: 0.8140\n",
      "Epoch 91/100\n",
      "242/242 [==============================] - 0s 58us/step - loss: 0.3932 - accuracy: 0.8388\n",
      "Epoch 92/100\n",
      "242/242 [==============================] - 0s 62us/step - loss: 0.3942 - accuracy: 0.8223\n",
      "Epoch 93/100\n",
      "242/242 [==============================] - 0s 62us/step - loss: 0.4003 - accuracy: 0.8388\n",
      "Epoch 94/100\n",
      "242/242 [==============================] - 0s 62us/step - loss: 0.3908 - accuracy: 0.8512\n",
      "Epoch 95/100\n",
      "242/242 [==============================] - 0s 62us/step - loss: 0.4094 - accuracy: 0.8264\n",
      "Epoch 96/100\n",
      "242/242 [==============================] - 0s 70us/step - loss: 0.3897 - accuracy: 0.8182\n",
      "Epoch 97/100\n",
      "242/242 [==============================] - 0s 66us/step - loss: 0.3939 - accuracy: 0.8430\n",
      "Epoch 98/100\n",
      "242/242 [==============================] - 0s 66us/step - loss: 0.4121 - accuracy: 0.8306\n",
      "Epoch 99/100\n",
      "242/242 [==============================] - 0s 66us/step - loss: 0.3835 - accuracy: 0.8388\n",
      "Epoch 100/100\n",
      "242/242 [==============================] - 0s 62us/step - loss: 0.4108 - accuracy: 0.8264\n"
     ]
    }
   ],
   "source": [
    "history = model.fit(train_data, new_train_target, epochs = 100)\n",
    "#model.fit to train the NN"
   ]
  },
  {
   "cell_type": "code",
   "execution_count": 11,
   "metadata": {},
   "outputs": [
    {
     "data": {
      "image/png": "[encoded data removed]",
      "text/plain": [
       "<Figure size 432x288 with 1 Axes>"
      ]
     },
     "metadata": {
      "needs_background": "light"
     },
     "output_type": "display_data"
    }
   ],
   "source": [
    "from matplotlib import pyplot as plt\n",
    "\n",
    "plt.plot(history.history['loss'])\n",
    "plt.xlabel('# epochs')\n",
    "plt.xlabel('loss')\n",
    "plt.show()\n",
    "\n",
    "#chart for show varing loss with epochs"
   ]
  },
  {
   "cell_type": "code",
   "execution_count": 7,
   "metadata": {},
   "outputs": [
    {
     "data": {
      "image/png": "[encoded data removed]",
      "text/plain": [
       "<Figure size 432x288 with 1 Axes>"
      ]
     },
     "metadata": {
      "needs_background": "light"
     },
     "output_type": "display_data"
    }
   ],
   "source": [
    "plt.plot(history.history['accuracy'])\n",
    "plt.xlabel('# epochs')\n",
    "plt.xlabel('accuracy')\n",
    "plt.show()\n",
    "\n",
    "#chart for show varing accuracy with epochs"
   ]
  },
  {
   "cell_type": "code",
   "execution_count": 8,
   "metadata": {
    "scrolled": true
   },
   "outputs": [
    {
     "name": "stdout",
     "output_type": "stream",
     "text": [
      "[[2.76237249e-01 7.23762691e-01]\n",
      " [3.95118259e-02 9.60488200e-01]\n",
      " [2.00664133e-01 7.99335897e-01]\n",
      " [6.77165091e-02 9.32283401e-01]\n",
      " [8.39772940e-01 1.60227016e-01]\n",
      " [1.21833414e-01 8.78166556e-01]\n",
      " [2.23488256e-01 7.76511729e-01]\n",
      " [9.53792930e-01 4.62070964e-02]\n",
      " [7.56708860e-01 2.43291125e-01]\n",
      " [3.63831334e-02 9.63616908e-01]\n",
      " [9.89669934e-02 9.01032984e-01]\n",
      " [4.58690077e-02 9.54131007e-01]\n",
      " [8.28281164e-01 1.71718866e-01]\n",
      " [8.60347092e-01 1.39652833e-01]\n",
      " [4.38629270e-01 5.61370730e-01]\n",
      " [2.51305737e-02 9.74869430e-01]\n",
      " [2.38623664e-01 7.61376381e-01]\n",
      " [7.38037527e-01 2.61962503e-01]\n",
      " [9.02425796e-02 9.09757376e-01]\n",
      " [3.51169184e-02 9.64883149e-01]\n",
      " [5.66635013e-01 4.33364987e-01]\n",
      " [3.14394146e-01 6.85605824e-01]\n",
      " [9.36272681e-01 6.37272820e-02]\n",
      " [3.88899028e-01 6.11100972e-01]\n",
      " [1.98181748e-01 8.01818252e-01]\n",
      " [2.02313900e-01 7.97686160e-01]\n",
      " [3.01275197e-02 9.69872415e-01]\n",
      " [8.24605405e-01 1.75394580e-01]\n",
      " [2.06288785e-01 7.93711185e-01]\n",
      " [9.61925864e-01 3.80741954e-02]\n",
      " [5.61525859e-02 9.43847418e-01]\n",
      " [9.68838856e-02 9.03116167e-01]\n",
      " [2.68189073e-01 7.31810927e-01]\n",
      " [9.57048893e-01 4.29511853e-02]\n",
      " [9.84852374e-01 1.51476786e-02]\n",
      " [1.90299507e-02 9.80970025e-01]\n",
      " [2.93413997e-01 7.06586063e-01]\n",
      " [8.46161768e-02 9.15383756e-01]\n",
      " [1.20433144e-01 8.79566789e-01]\n",
      " [9.72493351e-01 2.75065973e-02]\n",
      " [2.26074025e-01 7.73925960e-01]\n",
      " [9.77464497e-01 2.25355718e-02]\n",
      " [9.64940965e-01 3.50590535e-02]\n",
      " [2.42405936e-01 7.57594049e-01]\n",
      " [8.09481919e-01 1.90518022e-01]\n",
      " [6.22998327e-02 9.37700212e-01]\n",
      " [9.47863042e-01 5.21368906e-02]\n",
      " [1.05069846e-01 8.94930124e-01]\n",
      " [1.83329627e-01 8.16670418e-01]\n",
      " [6.49774849e-01 3.50225180e-01]\n",
      " [1.44453138e-01 8.55546892e-01]\n",
      " [1.70482114e-01 8.29517961e-01]\n",
      " [1.03042759e-01 8.96957278e-01]\n",
      " [6.34444237e-01 3.65555763e-01]\n",
      " [6.91751182e-01 3.08248788e-01]\n",
      " [9.33313608e-01 6.66863769e-02]\n",
      " [1.16901770e-01 8.83098185e-01]\n",
      " [5.22616028e-04 9.99477446e-01]\n",
      " [3.20922732e-01 6.79077327e-01]\n",
      " [5.85865855e-01 4.14134115e-01]\n",
      " [2.29181834e-02 9.77081835e-01]]\n"
     ]
    }
   ],
   "source": [
    "predicted_target = model.predict(test_data)\n",
    "\n",
    "print(predicted_target)\n",
    "\n",
    "#test_data and test_target in order to test the NN model using model.predict()."
   ]
  },
  {
   "cell_type": "code",
   "execution_count": 9,
   "metadata": {
    "scrolled": true
   },
   "outputs": [
    {
     "name": "stdout",
     "output_type": "stream",
     "text": [
      "Predicted Labels: [1 1 1 1 0 1 1 0 0 1 1 1 0 0 1 1 1 0 1 1 0 1 0 1 1 1 1 0 1 0 1 1 1 0 0 1 1\n",
      " 1 1 0 1 0 0 1 0 1 0 1 1 0 1 1 1 0 0 0 1 1 1 0 1]\n",
      "Actual Labels: [1. 1. 1. 0. 0. 1. 0. 0. 0. 1. 1. 1. 0. 0. 1. 1. 1. 0. 1. 1. 0. 0. 0. 0.\n",
      " 0. 0. 0. 0. 1. 0. 0. 1. 1. 0. 0. 1. 1. 0. 1. 0. 0. 0. 0. 1. 0. 1. 0. 1.\n",
      " 1. 0. 1. 1. 1. 0. 0. 0. 1. 1. 1. 1. 1.]\n"
     ]
    }
   ],
   "source": [
    "import numpy as np\n",
    "\n",
    "print('Predicted Labels:',np.argmax(predicted_target,axis=1))\n",
    "print('Actual Labels:',test_target)\n",
    "\n",
    "#Using np.argmax(predicted_target,axis=1) the corresponding index (label) can be obtained. \n",
    "#This gives the index corresponding to the maximum value of each row, \n",
    "#which is equal to the label having the maximum probability.axis=1 is given to get the maximum value of each row."
   ]
  },
  {
   "cell_type": "code",
   "execution_count": 10,
   "metadata": {},
   "outputs": [
    {
     "name": "stdout",
     "output_type": "stream",
     "text": [
      "61/61 [==============================] - 0s 256us/step\n",
      "[0.47812521750809717, 0.8196721076965332]\n"
     ]
    }
   ],
   "source": [
    "new_test_target = np_utils.to_categorical(test_target)\n",
    "\n",
    "evaluations = model.evaluate(test_data,new_test_target)\n",
    "print(evaluations)\n",
    "\n",
    "# display [loss, accuracy]"
   ]
  },
  {
   "cell_type": "code",
   "execution_count": null,
   "metadata": {},
   "outputs": [],
   "source": []
  }
 ],
 "metadata": {
  "kernelspec": {
   "display_name": "Python 3",
   "language": "python",
   "name": "python3"
  },
  "language_info": {
   "codemirror_mode": {
    "name": "ipython",
    "version": 3
   },
   "file_extension": ".py",
   "mimetype": "text/x-python",
   "name": "python",
   "nbconvert_exporter": "python",
   "pygments_lexer": "ipython3",
   "version": "3.7.4"
  }
 },
 "nbformat": 4,
 "nbformat_minor": 2
}
